{
 "cells": [
  {
   "cell_type": "code",
   "execution_count": 1,
   "id": "21d1fdb4",
   "metadata": {},
   "outputs": [],
   "source": [
    "import numpy as np\n",
    "import faiss\n",
    "import torch\n",
    "import sys\n",
    "sys.path.append('../')\n",
    "from utils.py import load_embeddings"
   ]
  },
  {
   "cell_type": "code",
   "execution_count": 2,
   "id": "cfc615b9",
   "metadata": {},
   "outputs": [
    {
     "name": "stdout",
     "output_type": "stream",
     "text": [
      "Loaded queries: (50000, 2048)\n"
     ]
    }
   ],
   "source": [
    "root = '../../../inference_array/resnet50/'\n",
    "model = 'mrl' # mrl, ff\n",
    "dataset = '1K' # 1K, 4K, V2\n",
    "index_type = 'kmeans'\n",
    "d = 2048 # cluster construction dim\n",
    "\n",
    "_, queryset, _, _, _, _ = load_embeddings(model, dataset, d)\n",
    "faiss.normalize_L2(queryset)\n",
    "print(\"Loaded queries:\", queryset.shape)"
   ]
  },
  {
   "cell_type": "code",
   "execution_count": 3,
   "id": "39d931c4",
   "metadata": {},
   "outputs": [
    {
     "name": "stdout",
     "output_type": "stream",
     "text": [
      "Clusters:  1024\n",
      "\n",
      "Number of probes: 1\n",
      "['top1', 'top2', 'top4', 'top5', 'top10']\n",
      "[0.7355 0.7355 0.7355 0.7355 0.7355]\n",
      "[0.84186 0.84186 0.84186 0.84186 0.84186]\n",
      "[0.89878 0.89878 0.89878 0.89878 0.89878]\n",
      "[0.93288 0.93288 0.93288 0.93288 0.93288]\n",
      "[0.95518 0.95518 0.95518 0.95518 0.95518]\n",
      "[0.96946 0.96946 0.96946 0.96946 0.96946]\n",
      "[0.9822 0.9822 0.9822 0.9822 0.9822]\n",
      "[0.99078 0.99078 0.99078 0.99078 0.99078]\n",
      "[1. 1. 1. 1. 1.]\n",
      "\n",
      "Number of probes: 2\n",
      "['top1', 'top2', 'top4', 'top5', 'top10']\n",
      "[0.7355  0.83386 0.83386 0.83386 0.83386]\n",
      "[0.84186 0.92572 0.92572 0.92572 0.92572]\n",
      "[0.89878 0.96662 0.96662 0.96662 0.96662]\n",
      "[0.93288 0.98402 0.98402 0.98402 0.98402]\n",
      "[0.95518 0.99246 0.99246 0.99246 0.99246]\n",
      "[0.96946 0.99674 0.99674 0.99674 0.99674]\n",
      "[0.9822  0.99894 0.99894 0.99894 0.99894]\n",
      "[0.99078 0.99982 0.99982 0.99982 0.99982]\n",
      "[1. 1. 1. 1. 1.]\n",
      "\n",
      "Number of probes: 5\n",
      "['top1', 'top2', 'top4', 'top5', 'top10']\n",
      "[0.7355  0.83386 0.89734 0.91348 0.91348]\n",
      "[0.84186 0.92572 0.96844 0.97612 0.97612]\n",
      "[0.89878 0.96662 0.99118 0.99438 0.99438]\n",
      "[0.93288 0.98402 0.99746 0.9988  0.9988 ]\n",
      "[0.95518 0.99246 0.99934 0.99978 0.99978]\n",
      "[0.96946 0.99674 0.99984 0.9999  0.9999 ]\n",
      "[0.9822  0.99894 0.99994 0.99998 0.99998]\n",
      "[0.99078 0.99982 1.      1.      1.     ]\n",
      "[1. 1. 1. 1. 1.]\n",
      "\n",
      "Number of probes: 10\n",
      "['top1', 'top2', 'top4', 'top5', 'top10']\n",
      "[0.7355  0.83386 0.89734 0.91348 0.95232]\n",
      "[0.84186 0.92572 0.96844 0.97612 0.99114]\n",
      "[0.89878 0.96662 0.99118 0.99438 0.99898]\n",
      "[0.93288 0.98402 0.99746 0.9988  0.99986]\n",
      "[0.95518 0.99246 0.99934 0.99978 1.     ]\n",
      "[0.96946 0.99674 0.99984 0.9999  1.     ]\n",
      "[0.9822  0.99894 0.99994 0.99998 1.     ]\n",
      "[0.99078 0.99982 1.      1.      1.     ]\n",
      "[1. 1. 1. 1. 1.]\n"
     ]
    }
   ],
   "source": [
    "search_dim = [8, 16, 32, 64, 128, 256, 512, 1024, 2048]\n",
    "nprobes = [1, 2, 5, 10]\n",
    "ncentroids = [1024]\n",
    "\n",
    "for centroid in ncentroids:\n",
    "    print(\"Clusters: \", centroid)\n",
    "    \n",
    "    # Load kmeans index\n",
    "    size = str(centroid)+'ncentroid_'+str(d)+'d'\n",
    "    index_file = root+'index_files/'+model+dataset+'_'+index_type+'_'+size+\"_nbits8_nlist2048\"\n",
    "    cpu_index = faiss.read_index(index_file+'.index')\n",
    "    if torch.cuda.device_count() > 0:\n",
    "        index = faiss.index_cpu_to_all_gpus(cpu_index)\n",
    "    \n",
    "    # Load and normalize centroids\n",
    "    centroids_path = root+'kmeans/'+model+'ncentroids'+str(centroid)+\"_\"+str(d)+'d'\"_\"+dataset+'.npy'\n",
    "    centroids = np.load(centroids_path)\n",
    "    faiss.normalize_L2(centroids)\n",
    "    gt = np.argsort(-queryset @ centroids.T, axis=1)\n",
    "    \n",
    "    topK = [1, 2, 4, 5, 10]\n",
    "        \n",
    "    for nprobe in nprobes:\n",
    "        print(\"\\nNumber of probes:\", nprobe)\n",
    "        print([f'top{k}' for k in topK])\n",
    "        for dim in search_dim:\n",
    "            q = np.ascontiguousarray(queryset[:, :dim])\n",
    "            nqueries = q.shape[0]\n",
    "            faiss.normalize_L2(q)\n",
    "            c = np.ascontiguousarray(centroids[:, :dim])\n",
    "            faiss.normalize_L2(c)\n",
    "            low_d_clusters = np.argsort(-q @ c.T, axis=1)\n",
    "            \n",
    "            count = [0, 0, 0, 0, 0]\n",
    "            \n",
    "            # Iterate over all queries\n",
    "            for i in range(nqueries):\n",
    "                label = gt[i][0]\n",
    "                target = low_d_clusters[i][:nprobe]\n",
    "                for j in range(len(topK)):\n",
    "                    count[j] += label in target[:topK[j]] # increments count[j] if correct\n",
    "\n",
    "            print(np.array(count) / nqueries)"
   ]
  }
 ],
 "metadata": {
  "kernelspec": {
   "display_name": "Python 3 (ipykernel)",
   "language": "python",
   "name": "python3"
  },
  "language_info": {
   "codemirror_mode": {
    "name": "ipython",
    "version": 3
   },
   "file_extension": ".py",
   "mimetype": "text/x-python",
   "name": "python",
   "nbconvert_exporter": "python",
   "pygments_lexer": "ipython3",
   "version": "3.11.3"
  },
  "vscode": {
   "interpreter": {
    "hash": "51ae9d60c33a8ae5621576c9f7a44d174a8f6e30fb616100a36dfd42ed0f76dc"
   }
  }
 },
 "nbformat": 4,
 "nbformat_minor": 5
}
