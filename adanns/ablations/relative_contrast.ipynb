{
 "cells": [
  {
   "cell_type": "code",
   "execution_count": 1,
   "id": "1d746c2b",
   "metadata": {},
   "outputs": [],
   "source": [
    "import numpy as np\n",
    "import torch\n",
    "import faiss\n",
    "import sys\n",
    "sys.path.append('../')\n",
    "from utils import load_embeddings"
   ]
  },
  {
   "cell_type": "code",
   "execution_count": 9,
   "id": "3080d42d",
   "metadata": {},
   "outputs": [],
   "source": [
    "root = '../../../inference_array/resnet50/'\n",
    "model = \"ff\" # mrl, ff\n",
    "dataset = '1K' # 1K, 4K, V2"
   ]
  },
  {
   "cell_type": "markdown",
   "id": "de07a2d2",
   "metadata": {},
   "source": [
    "### In the cell below, we use the relative contrast equation as defined in Equation (1) of [On the DIfficulty of Nearest Neighbor Search](https://www.ee.columbia.edu/ln/dvmm/pubs/files/ICML_RelativeContrast.pdf).<br>\n",
    "### $C_r = \\frac{D_{mean}}{D_{min}}$<br>\n",
    "<p> where $C_r$ is the relative contrast of a dataset $X$, $D_{mean}$ is the expected distance of a random database sample from a query $q$, and $D_{min}$ is the expected distance to the nearest database sample from a query $q$.</p>"
   ]
  },
  {
   "cell_type": "code",
   "execution_count": null,
   "id": "d4f449b0",
   "metadata": {},
   "outputs": [],
   "source": [
    "if torch.cuda.device_count() > 0:\n",
    "    device = torch.device('cuda')\n",
    "else:\n",
    "    raise Exception(\"Please use a GPU! This will take very very long otherwise.\")\n",
    "\n",
    "# dlist = [8, 16, 32, 64, 128, 256, 512, 1024, 2048]\n",
    "dlist = [2048]\n",
    "batch_size = 4196\n",
    "\n",
    "for d in dlist:\n",
    "    database, queryset, db_labels, query_labels, xb, xq = load_embeddings(model, dataset, d)\n",
    "\n",
    "    qy = torch.as_tensor(xq).to(device)\n",
    "    db = torch.as_tensor(xb)\n",
    "    \n",
    "    num_batches = int(database.shape[0] / batch_size)\n",
    "    final_d_min = torch.ones((qy.shape[0])).to(device) * 1e10\n",
    "    final_d_mean = []\n",
    "\n",
    "    for i in range(num_batches):\n",
    "        db_batch = db[(i)*batch_size:(i+1)*batch_size, :].to(device)\n",
    "        distances = torch.cdist(qy, db_batch)\n",
    "        sorted_dist = torch.sort(distances)\n",
    "        current_d_min = sorted_dist.values[:, 0]\n",
    "        \n",
    "        final_d_min = torch.min(current_d_min, final_d_min)\n",
    "        final_d_mean.append(torch.mean(distances, axis=1).cpu().numpy())\n",
    "        \n",
    "    C_r = np.mean(final_d_mean) / torch.mean(final_d_min).cpu().numpy()\n",
    "    print(f'C_r(d={d})={C_r}')"
   ]
  }
 ],
 "metadata": {
  "kernelspec": {
   "display_name": "Python 3 (ipykernel)",
   "language": "python",
   "name": "python3"
  },
  "language_info": {
   "codemirror_mode": {
    "name": "ipython",
    "version": 3
   },
   "file_extension": ".py",
   "mimetype": "text/x-python",
   "name": "python",
   "nbconvert_exporter": "python",
   "pygments_lexer": "ipython3",
   "version": "3.11.3"
  },
  "vscode": {
   "interpreter": {
    "hash": "51ae9d60c33a8ae5621576c9f7a44d174a8f6e30fb616100a36dfd42ed0f76dc"
   }
  }
 },
 "nbformat": 4,
 "nbformat_minor": 5
}
