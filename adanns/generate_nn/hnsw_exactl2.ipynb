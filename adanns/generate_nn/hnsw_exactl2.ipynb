{
 "cells": [
  {
   "cell_type": "code",
   "execution_count": 1,
   "id": "cc5c9e14",
   "metadata": {},
   "outputs": [],
   "source": [
    "import numpy as np\n",
    "import faiss\n",
    "import time\n",
    "import pandas as pd\n",
    "from os import path, makedirs\n",
    "import torch\n",
    "import sys\n",
    "sys.path.append('../')\n",
    "from utils import load_embeddings"
   ]
  },
  {
   "cell_type": "markdown",
   "id": "20116c14",
   "metadata": {},
   "source": [
    "## Configuration Variables"
   ]
  },
  {
   "cell_type": "code",
   "execution_count": 2,
   "id": "3be50514",
   "metadata": {},
   "outputs": [],
   "source": [
    "root = '../../../inference_array/resnet50/' # path to database and queryset\n",
    "D = 2048 # embedding dim\n",
    "hnsw_max_neighbors = 32 # M for HNSW, default=32\n",
    "pq_num_subvectors = 32 # m for HNSW+PQ\n",
    "\n",
    "model = 'mrl' # mrl, rr\n",
    "dataset = '1K' # 1K, 4K, V2\n",
    "index_type = 'hnsw32' # exactl2, hnsw32, #'hnswpq_M'+str(hnsw_max_neighbors)+'_pq-m'+str(pq_num_subvectors)\n",
    "\n",
    "k = 2048 # shortlist length, default is set to the max supported by FAISS\n",
    "nesting_list = [8, 16, 32, 64] # embedding dim to loop over"
   ]
  },
  {
   "cell_type": "markdown",
   "id": "f4401b8c",
   "metadata": {},
   "source": [
    "## FAISS Index Building and NN Search"
   ]
  },
  {
   "cell_type": "code",
   "execution_count": 3,
   "id": "5fd3e4f5",
   "metadata": {},
   "outputs": [],
   "source": [
    "if index_type == 'exactl2' and torch.cuda.device_count() > 0:\n",
    "    use_gpu = True # GPU inference for exact search\n",
    "else:\n",
    "    use_gpu = False # GPU inference for HNSW is currently not supported by FAISS"
   ]
  },
  {
   "cell_type": "code",
   "execution_count": 4,
   "id": "f862bf36",
   "metadata": {},
   "outputs": [],
   "source": [
    "def get_nn(index_type, nesting_list, m=8):\n",
    "    for retrieval_dim in nesting_list:\n",
    "        if retrieval_dim > D:\n",
    "            continue\n",
    "        \n",
    "        if index_type == 'hnswpq_M'+str(hnsw_max_neighbors)+'_pq-m'+str(m) and retrieval_dim < m:\n",
    "            continue\n",
    "            \n",
    "        if not path.isdir(root+'index_files/'+model+'/'):\n",
    "            makedirs(root+'index_files/'+model+'/')\n",
    "        index_file = root+'index_files/'+model+'/'+dataset+'_'+str(retrieval_dim)+'dim_'+index_type+'.index'\n",
    "\n",
    "        _, _, _, _, xb, xq = load_embeddings(model, dataset, retrieval_dim)\n",
    "\n",
    "        # Load or build index\n",
    "        if path.exists(index_file): # Load index\n",
    "            print(\"Loading index file: \" + index_file.split(\"/\")[-1])\n",
    "            cpu_index = faiss.read_index(index_file)\n",
    "            \n",
    "        else: # Build index\n",
    "            print(\"Generating index file: \" + index_file)\n",
    "\n",
    "            d = xb.shape[1] # dimension\n",
    "\n",
    "            start = time.time()\n",
    "            if index_type == 'exactl2':\n",
    "                print(\"Building Exact L2 Index\")\n",
    "                cpu_index = faiss.IndexFlatL2(d) # build the index\n",
    "            elif index_type == 'hnswpq_M'+str(hnsw_max_neighbors)+'_pq-m'+str(m):\n",
    "                print(\"Building D%d + HNSW%d + PQ%d Index\" % (d, hnsw_max_neighbors, m))\n",
    "                cpu_index = faiss.IndexHNSWPQ(d, m, hnsw_max_neighbors)\n",
    "                cpu_index.train(xb)\n",
    "            elif index_type == f'hnsw{hnsw_max_neighbors}':\n",
    "                print(\"Building HNSW%d Index\" % hnsw_max_neighbors)\n",
    "                cpu_index = faiss.IndexHNSWFlat(d, hnsw_max_neighbors)\n",
    "            else:\n",
    "                raise Exception(f\"Unsupported Index: {index_type}\")\n",
    "                \n",
    "            cpu_index.add(xb) # add vectors to the index\n",
    "            faiss.write_index(cpu_index, index_file)\n",
    "            print(\"GPU Index build time= %0.3f sec\" % (time.time() - start))\n",
    "\n",
    "        if use_gpu:\n",
    "            index = faiss.index_cpu_to_all_gpus(cpu_index)\n",
    "        else:\n",
    "            index = cpu_index\n",
    "        \n",
    "        # Iterate over efSearch (HNSW search probes)\n",
    "        efsearchlist = [16]\n",
    "        for efsearch in efsearchlist:\n",
    "            start = time.time()\n",
    "            if index_type in ['hnsw32', 'hnswpq_M'+str(hnsw_max_neighbors)+'_pq-m'+str(m)]:\n",
    "                index.hnsw.efSearch = efsearch\n",
    "                print(\"Searching with Efsearch =\", index.hnsw.efSearch)\n",
    "            Dist, Ind = index.search(xq, k)\n",
    "            # print(\"GPU %d-NN search time= %f sec\" % (k, time.time() - start))\n",
    "            if not path.isdir(root+\"neighbors/\"+model+'/'+index_type):\n",
    "                makedirs(root+\"neighbors/\"+model+'/'+index_type)\n",
    "            nn_dir = root+\"neighbors/\"+model+'/'+index_type+\"/\"+index_type+'_efsearch'+str(efsearch)+\"_\"+str(k)+\"shortlist_\"+dataset+\"_d\"+str(retrieval_dim)+\".csv\"\n",
    "            pd.DataFrame(Ind).to_csv(nn_dir, header=None, index=None)\n",
    "            \n",
    "        del index, Dist, Ind"
   ]
  },
  {
   "cell_type": "code",
   "execution_count": 6,
   "id": "f5efe3d2",
   "metadata": {},
   "outputs": [
    {
     "name": "stdout",
     "output_type": "stream",
     "text": [
      "Generating index file: ../../../inference_array/resnet50/index_files/mrl1K_8dim_hnsw32.index\n",
      "Building HNSW32 Index\n",
      "GPU Index build time= 57.573 sec\n",
      "Searching with Efsearch = 16\n",
      "13010622\n",
      "Generating index file: ../../../inference_array/resnet50/index_files/mrl1K_16dim_hnsw32.index\n",
      "Building HNSW32 Index\n",
      "GPU Index build time= 71.297 sec\n",
      "Searching with Efsearch = 16\n",
      "15721346\n",
      "Generating index file: ../../../inference_array/resnet50/index_files/mrl1K_32dim_hnsw32.index\n",
      "Building HNSW32 Index\n",
      "GPU Index build time= 74.260 sec\n",
      "Searching with Efsearch = 16\n",
      "16834028\n",
      "Generating index file: ../../../inference_array/resnet50/index_files/mrl1K_64dim_hnsw32.index\n",
      "Building HNSW32 Index\n",
      "GPU Index build time= 77.627 sec\n",
      "Searching with Efsearch = 16\n",
      "17557581\n"
     ]
    }
   ],
   "source": [
    "nesting_list = [8, 16, 32, 64]\n",
    "get_nn(index_type, nesting_list)"
   ]
  },
  {
   "cell_type": "code",
   "execution_count": 5,
   "id": "87ea3f22",
   "metadata": {
    "scrolled": false
   },
   "outputs": [
    {
     "name": "stdout",
     "output_type": "stream",
     "text": [
      "Loading index file: 1K_8dim_hnswpq_M32_pq-m8.index\n",
      "Searching with Efsearch = 16\n",
      "Loading index file: 1K_16dim_hnswpq_M32_pq-m8.index\n",
      "Searching with Efsearch = 16\n",
      "Loading index file: 1K_32dim_hnswpq_M32_pq-m8.index\n",
      "Searching with Efsearch = 16\n",
      "Loading index file: 1K_64dim_hnswpq_M32_pq-m8.index\n",
      "Searching with Efsearch = 16\n",
      "Generating index file: ../../../inference_array/resnet50/index_files/mrl/1K_16dim_hnswpq_M32_pq-m16.index\n",
      "Building D16 + HNSW32 + PQ16 Index\n",
      "GPU Index build time= 180.430 sec\n",
      "Searching with Efsearch = 16\n",
      "Generating index file: ../../../inference_array/resnet50/index_files/mrl/1K_32dim_hnswpq_M32_pq-m16.index\n",
      "Building D32 + HNSW32 + PQ16 Index\n",
      "GPU Index build time= 180.994 sec\n",
      "Searching with Efsearch = 16\n",
      "Generating index file: ../../../inference_array/resnet50/index_files/mrl/1K_64dim_hnswpq_M32_pq-m16.index\n",
      "Building D64 + HNSW32 + PQ16 Index\n",
      "GPU Index build time= 182.374 sec\n",
      "Searching with Efsearch = 16\n"
     ]
    }
   ],
   "source": [
    "# k = 40 to generate Exact Ground Truth for 40-Recall@2048\n",
    "# nesting_list = [D] # fixed embedding dimension for RR models\n",
    "pq_m_values = [8, 16] # loop over PQ m values\n",
    "\n",
    "for m in pq_m_values:\n",
    "    index_type = 'hnswpq_M'+str(hnsw_max_neighbors)+'_pq-m'+str(m)\n",
    "    get_nn(index_type, nesting_list, m)"
   ]
  }
 ],
 "metadata": {
  "jupytext": {
   "cell_metadata_filter": "-all",
   "notebook_metadata_filter": "-all"
  },
  "kernelspec": {
   "display_name": "Python 3 (ipykernel)",
   "language": "python",
   "name": "python3"
  },
  "language_info": {
   "codemirror_mode": {
    "name": "ipython",
    "version": 3
   },
   "file_extension": ".py",
   "mimetype": "text/x-python",
   "name": "python",
   "nbconvert_exporter": "python",
   "pygments_lexer": "ipython3",
   "version": "3.11.3"
  },
  "vscode": {
   "interpreter": {
    "hash": "51ae9d60c33a8ae5621576c9f7a44d174a8f6e30fb616100a36dfd42ed0f76dc"
   }
  }
 },
 "nbformat": 4,
 "nbformat_minor": 5
}
