{
 "cells": [
  {
   "cell_type": "code",
   "execution_count": 1,
   "id": "aa3cf273",
   "metadata": {},
   "outputs": [],
   "source": [
    "import pandas as pd\n",
    "import numpy as np\n",
    "import time\n",
    "import os\n",
    "import faiss\n",
    "import csv"
   ]
  },
  {
   "cell_type": "markdown",
   "id": "f4fbeb4d",
   "metadata": {},
   "source": [
    "## Configuration Variables"
   ]
  },
  {
   "cell_type": "code",
   "execution_count": 2,
   "id": "6b093168",
   "metadata": {},
   "outputs": [],
   "source": [
    "D = 2048 # vector dim\n",
    "ROOT_DIR = '../../inference_array/resnet50/'\n",
    "CONFIG = 'mrl/' # ['mrl/', 'rr/']\n",
    "NESTING = CONFIG == 'mrl/'\n",
    "SEARCH_INDEX = 'ivfpq' # ['exactl2', 'ivfpq', 'opq', 'hnsw32']\n",
    "DATASET = '1K' # 1K, V2, 4K\n",
    "\n",
    "# Quantization Variables\n",
    "nbits = 8 # nbits used to represent centroid id; total possible is k* = 2**nbits\n",
    "nlist = 1024  # how many Voronoi cells (must be >= k*)\n",
    "iterator = [8, 16, 32, 64, 128, 256, 512, 1024, 2048] # vector dim D \n",
    "\n",
    "if SEARCH_INDEX in ['ivfpq', 'opq']:\n",
    "    M = 32 # number of sub-quantizers, i.e. compression in bytes"
   ]
  },
  {
   "cell_type": "code",
   "execution_count": 3,
   "id": "9c9351db",
   "metadata": {},
   "outputs": [],
   "source": [
    "def compute_mAP_recall_at_k(val_classes, db_classes, neighbors, k):\n",
    "    \"\"\"\n",
    "    Computes the MAP@k on neighbors with val set by seeing if nearest neighbor\n",
    "    is in the same class as the class of the val code. Let m be size of val set, and n in train.\n",
    "\n",
    "      val:          (m x d) All the truncated vector representations of images in val set\n",
    "      val_classes:  (m x 1) class index values for each vector in the val set\n",
    "      db_classes:   (n x 1) class index values for each vector in the train set\n",
    "      neighbors:    (m x k) indices in train set of top k neighbors for each vector in val set\n",
    "    \"\"\"\n",
    "\n",
    "    \"\"\"\n",
    "    ImageNet-1K:\n",
    "    shape of val is: (50000, dim)\n",
    "    shape of val_classes is: (50000, 1)\n",
    "    shape of db_classes is: (1281167, 1)\n",
    "    shape of neighbors is: (50000, k)\n",
    "    \"\"\"\n",
    "    APs, precision, recall, topk, unique_cls = [], [], [], [], []\n",
    "    \n",
    "    for i in range(val_classes.shape[0]): # Compute precision for each vector's list of k-nn\n",
    "        target = val_classes[i]\n",
    "        indices = neighbors[i, :][:k]     # k neighbor list for ith val vector\n",
    "        labels = db_classes[indices]\n",
    "        matches = (labels == target)\n",
    "        \n",
    "        # Number of unique classes\n",
    "        unique_cls.append(len(np.unique(labels)))\n",
    "        \n",
    "        # topk\n",
    "        hits = np.sum(matches)\n",
    "        if hits > 0:\n",
    "            topk.append(1)\n",
    "        else:\n",
    "            topk.append(0)\n",
    "            \n",
    "        # true positive counts\n",
    "        tps = np.cumsum(matches)\n",
    "\n",
    "        # recall\n",
    "        recall.append(np.sum(matches)/1300)\n",
    "        precision.append(np.sum(matches)/k)\n",
    "\n",
    "        # precision values\n",
    "        precs = tps.astype(float) / np.arange(1, k + 1, 1)\n",
    "        APs.append(np.sum(precs[matches.squeeze()]) / k)\n",
    "\n",
    "    return np.mean(APs), np.mean(precision), np.mean(recall), np.mean(topk), np.mean(unique_cls)"
   ]
  },
  {
   "cell_type": "code",
   "execution_count": 4,
   "id": "ab7ca0bb",
   "metadata": {},
   "outputs": [],
   "source": [
    "def get_k_recall_at_N(exact_gt, neighbors, k=40, N=2048):\n",
    "    \"\"\"\n",
    "    Computes k-Recall@N which denotes the recall of k true nearest neighbors (exact search) \n",
    "    when N datapoints are retrieved with ANNS. Let q be size of query set.\n",
    "    \n",
    "      exact_gt:   (q x k) True nearest-neighbors of query set computed with exact search\n",
    "      neighbors:  (q x N) Approximate nearest-neighbors of query set\n",
    "      k:          (1)     Number of true nearest-neighbors\n",
    "      N:          (1)     Number of approximate nearest-neighbors retrieved\n",
    "    \"\"\"\n",
    "    labels = exact_gt[:, :k] # Labels from true NN\n",
    "    targets = neighbors\n",
    "    num_queries = exact_gt.shape[0]\n",
    "    count = 0\n",
    "    for i in range(num_queries):\n",
    "        label = labels[i]\n",
    "        target = targets[i, :N]\n",
    "        # Compute overlap between approximate and true nearest-neighbors\n",
    "        count += len(list(set(label).intersection(target)))\n",
    "    return count / (num_queries * k)"
   ]
  },
  {
   "cell_type": "markdown",
   "id": "74005467",
   "metadata": {},
   "source": [
    "## Load database, query, and neighbor arrays and compute metrics"
   ]
  },
  {
   "cell_type": "code",
   "execution_count": 5,
   "id": "1245f078",
   "metadata": {},
   "outputs": [],
   "source": [
    "def load_knn_array(dim, **kwargs):\n",
    "    if SEARCH_INDEX in ['ivfpq', 'opq']:\n",
    "        if (M > dim):\n",
    "            return\n",
    "        size = 'm'+str(M)+'_nlist'+str(nlist)+\"_nprobe\"+str(nprobe)+\"_\"\n",
    "    elif SEARCH_INDEX == 'ivfsq':\n",
    "        size = str(qtype)+'qtype_'\n",
    "    elif SEARCH_INDEX == 'kmeans':\n",
    "        size = str(nlist)+'ncentroid_'\n",
    "    elif SEARCH_INDEX == 'ivf':\n",
    "        size = 'nlist'+str(nlist)+\"_nprobe\"+str(nprobe)+\"_\"\n",
    "    elif SEARCH_INDEX in ['hnsw32', 'hnswpq_M32_pq-m8','hnswpq_M32_pq-m16','hnswpq_M32_pq-m32','hnswpq_M32_pq-m64', 'hnswpq_M32_pq-m128']:\n",
    "        size = 'efsearch'+str(nprobe)+\"_\"\n",
    "    else:\n",
    "        raise Exception(f\"Unsupported Search Index: {SEARCH_INDEX}\")\n",
    "\n",
    "    # Load neighbors array and compute metrics\n",
    "    neighbors_path = ROOT_DIR + \"neighbors/\" + CONFIG + SEARCH_INDEX+\"/\"+SEARCH_INDEX + \"_\" + size \\\n",
    "                + \"2048shortlist_\" + DATASET + \"_d\"+str(dim)+\".csv\"\n",
    "    \n",
    "    if not os.path.exists(neighbors_path):\n",
    "        print(neighbors_path.split(\"/\")[-1] + \" not found\")\n",
    "        return\n",
    "\n",
    "    return pd.read_csv(neighbors_path, header=None).to_numpy()\n",
    "\n",
    "\n",
    "def print_metrics(iterator, shortlist, metric, nprobe=1, N=2048):\n",
    "    \"\"\"\n",
    "    Computes and print retrieval metrics.\n",
    "    \n",
    "      iterator:   (List) True nearest-neighbors of query set computed with exact search\n",
    "      shortlist:  (List) Number of data points retrieved (k)\n",
    "      metric:     Name of metric ['topk', 'mAP', 'precision', 'recall', 'unique_cls', 'k_recall_at_n']\n",
    "      nprobe:     Number of clusters probed during search (IVF) OR 'efSearch' for HNSW search quality\n",
    "      N:          Number of data points retrieved for k-recall@N\n",
    "    \"\"\"\n",
    "    # Load database and query set for nested models\n",
    "    if NESTING:\n",
    "        # Database: 1.2M x 1 for Imagenet-1K\n",
    "        if DATASET == 'V2':\n",
    "            db_labels = np.load(ROOT_DIR + \"1K_train_mrl1_e0_ff2048-y.npy\")\n",
    "        else:\n",
    "            db_labels = np.load(ROOT_DIR + DATASET + \"_train_mrl1_e0_ff2048-y.npy\")\n",
    "        \n",
    "        # Query set: 50K x 1 for Imagenet-1K\n",
    "        query_labels = np.load(ROOT_DIR + DATASET + \"_val_mrl1_e0_ff2048-y.npy\")\n",
    "    \n",
    "    for dim in iterator:\n",
    "        # Load database and query set for fixed feature models\n",
    "        if not NESTING:\n",
    "            db_labels = np.load(ROOT_DIR + DATASET + \"_train_mrl0_e0_ff\"+str(dim)+\"-y.npy\")\n",
    "            query_labels = np.load(ROOT_DIR + DATASET + \"_val_mrl0_e0_ff\"+str(D)+\"-y.npy\")\n",
    "            \n",
    "        neighbors = load_knn_array(dim, M=M, nlist=nlist, nprobe=nprobe)\n",
    "        \n",
    "        for k in shortlist:\n",
    "            if metric == 'k_recall_at_n':\n",
    "                # Use 40-NN from Exact Search with MRL as GT\n",
    "                if NESTING:\n",
    "                    query_labels = pd.read_csv(ROOT_DIR + f'k-recall@N_ground_truth/mrl_exactl2_2048dim_{k}shortlist_1K.csv', header=None).to_numpy()\n",
    "                else:\n",
    "                    query_labels = pd.read_csv(ROOT_DIR + f'k-recall@N_ground_truth/rr_exactl2_{dim}dim_{k}shortlist_1K.csv', header=None).to_numpy()\n",
    "                \n",
    "                k_recall = (get_k_recall_at_N(query_labels, neighbors, k, N))\n",
    "                print(f'{k}-Recall@{N} = {k_recall}')\n",
    "                \n",
    "            else:\n",
    "                mAP, precision, recall, topk, unique_cls = compute_mAP_recall_at_k(query_labels, db_labels, neighbors, k)\n",
    "                if (metric == 'topk'): print(f'topk, {dim}, {M}, {nprobe}, {topk}')\n",
    "                elif (metric == 'mAP'): print(f'mAP, {dim}, {M}, {nprobe}, {mAP}')\n",
    "                elif (metric == 'precision'): print(f'precision, {dim}, {M}, {nprobe}, {precision}')\n",
    "                elif (metric == 'recall') : print(f'recall, {dim}, {M}, {nprobe}, {recall}')\n",
    "                elif (metric == 'unique_cls'): print(f'unique_cls, {dim}, {M}, {nprobe}, {unique_cls}')\n",
    "                else: raise Exception(\"Unsupported metric!\")"
   ]
  },
  {
   "cell_type": "markdown",
   "id": "5f2ea629",
   "metadata": {},
   "source": [
    "## Example: Traditional Retrieval Metrics (Top-1, mAP, Recall)"
   ]
  },
  {
   "cell_type": "code",
   "execution_count": 6,
   "id": "a336eb99",
   "metadata": {},
   "outputs": [
    {
     "name": "stdout",
     "output_type": "stream",
     "text": [
      "Index: ivfpq\n",
      "metric, D, M, nprobe, value\n",
      "topk, 16, 8, 1, 0.6775\n",
      "topk, 32, 8, 1, 0.6861\n",
      "mAP, 16, 8, 1, 0.6306868079365078\n",
      "mAP, 32, 8, 1, 0.6374524079365079\n",
      "recall, 16, 8, 1, 0.05151807692307692\n",
      "recall, 32, 8, 1, 0.051838800000000004\n"
     ]
    }
   ],
   "source": [
    "# Example evaluation for IVFPQ\n",
    "iterator = [16, 32]\n",
    "print(\"Index:\", SEARCH_INDEX)\n",
    "print(\"metric, D, M, nprobe, value\")\n",
    "for M in [8]:\n",
    "    for nprobe in [1]:\n",
    "            print_metrics(iterator, [1], 'topk', nprobe)\n",
    "            print_metrics(iterator, [10], 'mAP', nprobe)\n",
    "            print_metrics(iterator, [100], 'recall', nprobe)"
   ]
  },
  {
   "cell_type": "markdown",
   "id": "8ce6be99",
   "metadata": {},
   "source": [
    "## Example: ANNS Metric: k-Recall@N"
   ]
  },
  {
   "cell_type": "code",
   "execution_count": 64,
   "id": "4d5663b9",
   "metadata": {},
   "outputs": [
    {
     "name": "stdout",
     "output_type": "stream",
     "text": [
      "k-recall@N GT:  (50000, 40)\n",
      "40-Recall@2048 = 0.2071915\n",
      "k-recall@N GT:  (50000, 40)\n",
      "40-Recall@2048 = 0.311641\n",
      "k-recall@N GT:  (50000, 40)\n",
      "40-Recall@2048 = 0.377283\n",
      "k-recall@N GT:  (50000, 40)\n",
      "40-Recall@2048 = 0.4137225\n"
     ]
    }
   ],
   "source": [
    "USE_K_RECALL_AT_N = True\n",
    "SEARCH_INDEX = 'hnsw32'\n",
    "iterator = [8, 16, 32, 64]\n",
    "\n",
    "print_metrics(iterator, [40], 'krecall', nprobe=1, N=2048)"
   ]
  }
 ],
 "metadata": {
  "kernelspec": {
   "display_name": "Python 3 (ipykernel)",
   "language": "python",
   "name": "python3"
  },
  "language_info": {
   "codemirror_mode": {
    "name": "ipython",
    "version": 3
   },
   "file_extension": ".py",
   "mimetype": "text/x-python",
   "name": "python",
   "nbconvert_exporter": "python",
   "pygments_lexer": "ipython3",
   "version": "3.11.3"
  }
 },
 "nbformat": 4,
 "nbformat_minor": 5
}
