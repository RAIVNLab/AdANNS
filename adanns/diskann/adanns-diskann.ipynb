{
 "cells": [
  {
   "cell_type": "markdown",
   "id": "650d31f4",
   "metadata": {},
   "source": [
    "## Dataset Preparation for DiskANN"
   ]
  },
  {
   "cell_type": "code",
   "execution_count": 1,
   "id": "d6dbab11",
   "metadata": {
    "scrolled": false
   },
   "outputs": [],
   "source": [
    "import numpy as np\n",
    "import sys\n",
    "import os\n",
    "\n",
    "embeddings_root = 'path/to/embeddings/'\n",
    "\n",
    "def generate_bin_data_from_ndarray(embedding_path, bin_out_path, embedding_dims):\n",
    "    data_orig = np.load(embedding_path)\n",
    "    for d in embedding_dims:\n",
    "        data_sliced = data_orig[:, :d]\n",
    "        outfile = bin_out_path+\"_d\"+str(d)+\".fbin\"\n",
    "        print(outfile.split(\"/\")[-1])\n",
    "        print(\"Array sliced: \", data_sliced.shape)\n",
    "        data_sliced.astype('float32').tofile(\"temp\")\n",
    "\n",
    "        num_points = data_sliced.shape[0].to_bytes(4, 'little')\n",
    "        data_dim = data_sliced.shape[1].to_bytes(4, 'little')\n",
    "\n",
    "        with open(\"temp\", \"rb\") as old, open(outfile, \"wb\") as new:\n",
    "            new.write(num_points)\n",
    "            new.write(data_dim)\n",
    "            new.write(old.read())\n",
    "        \n",
    "        os.remove(\"temp\")"
   ]
  },
  {
   "cell_type": "code",
   "execution_count": null,
   "id": "b69e102e",
   "metadata": {},
   "outputs": [],
   "source": [
    "nesting_list = [8, 16, 32, 64, 128, 256, 512, 1024, 2048]\n",
    "for d in nesting_list:\n",
    "    generate_bin_data_from_ndarray(embeddings_root+\"1K_train_mrl0_e0_ff\"+str(d)+\"-X.npy\", \"../build/data/rr-resnet50/fbin/database\", [d])\n",
    "    print()\n",
    "    generate_bin_data_from_ndarray(embeddings_root+\"1K_val_mrl0_e0_ff\"+str(d)+\"-X.npy\", \"../build/data/rr-resnet50/fbin/queries\", [d])"
   ]
  },
  {
   "cell_type": "markdown",
   "id": "5db9a1eb",
   "metadata": {},
   "source": [
    "## Generate Exact Search ground truth from queries and database"
   ]
  },
  {
   "cell_type": "code",
   "execution_count": 2,
   "id": "45584765",
   "metadata": {
    "scrolled": true
   },
   "outputs": [],
   "source": [
    "%%bash\n",
    "use_mrl=mr # mr or rr \n",
    "\n",
    "for d in 8 16 32 64 128 256 512 1024 2048\n",
    "do\n",
    "    ./../build/tests/utils/compute_groundtruth  --data_type float --dist_fn l2 \\\n",
    "    --base_file ../build/data/{use_mrl}-resnet50/fbin/database_d$d.fbin \\\n",
    "    --query_file  ../build/data/{use_mrl}-resnet50/fbin/queries_d$d.fbin \\\n",
    "    --gt_file ../build/data/{use_mrl}-resnet50/exact_gt100/${use_mrl}_r50_queries_d$d\"\"_gt100 --K 100\n",
    "done"
   ]
  },
  {
   "cell_type": "markdown",
   "id": "a21fb4fd",
   "metadata": {},
   "source": [
    "## Build DiskANN In-Memory Index"
   ]
  },
  {
   "cell_type": "code",
   "execution_count": null,
   "id": "d5ae6f7d",
   "metadata": {},
   "outputs": [],
   "source": [
    "%%bash\n",
    "opq_bytes=32\n",
    "use_mrl=mrl # mr or rr\n",
    "\n",
    "for use_mrl in mrl\n",
    "do\n",
    "    for d in 32 64 128 256 512 1024 2048\n",
    "    do\n",
    "        echo -e \"Building index ${use_mrl}1K_opq${opq_bytes}_R64_L100_A1.2_d$d\\n\"\n",
    "        ./../build/tests/build_memory_index --data_type float --dist_fn l2 \\\n",
    "        --data_path ../build/data/${use_mrl}-resnet50/fbin/database_d$d.fbin \\\n",
    "        --index_path_prefix ../build/data/${use_mrl}-resnet50/memory-index/${use_mrl}1K_opq${opq_bytes}_R64_L100_A1.2_d$d \\\n",
    "        -R 64 -L 100 --alpha 1.2 --build_PQ_bytes ${opq_bytes} --use_opq\n",
    "    done\n",
    "done"
   ]
  },
  {
   "cell_type": "markdown",
   "id": "95b04524",
   "metadata": {},
   "source": [
    "## Build DiskANN SSD Index"
   ]
  },
  {
   "cell_type": "code",
   "execution_count": null,
   "id": "4cd4d51b",
   "metadata": {
    "scrolled": true
   },
   "outputs": [],
   "source": [
    "%%bash\n",
    "opq_bytes=48\n",
    "use_mrl=rr\n",
    "reorder=disk-index-no-reorder\n",
    "\n",
    "# Disable post-hoc re-ranking by setting PQ_disk_bytes = build_PQ_bytes\n",
    "for opq_bytes in 32 48 64\n",
    "do\n",
    "    for d in 1024\n",
    "    do\n",
    "        echo -e \"Building disk OPQ index ${use_mrl}1K_opq${opq_bytes}_R64_L100_B0.3_d$d\\n\"\n",
    "        ./../build/tests/build_disk_index --data_type float --dist_fn l2 \\\n",
    "        --data_path ../build/data/${use_mrl}-resnet50/fbin/database_d$d.fbin \\\n",
    "        --index_path_prefix ../build/data/${use_mrl}-resnet50/disk-index-no-reorder/${use_mrl}1K_opq${opq_bytes}_R64_L100_B0.3_d$d \\\n",
    "        -R 64 -L 100 -B 0.3 -M 40 --PQ_disk_bytes $opq_bytes --build_PQ_bytes $opq_bytes --use_opq \n",
    "    done\n",
    "done\n",
    "\n",
    "# Build index with implicit post-hoc full-precision reranking\n",
    "for opq_bytes in 32 48 64\n",
    "do\n",
    "    for d in 128 1024\n",
    "    do\n",
    "        ./../build/tests/build_disk_index --data_type float --dist_fn l2 \\\n",
    "        --data_path ../build/data/${use_mrl}-resnet50/fbin/database_d$d.fbin \\\n",
    "        --index_path_prefix ../build/data/${use_mrl}-resnet50/disk-index/${use_mrl}1K_opq${opq_bytes}_R64_L100_B0.3_d$d \\\n",
    "        -R 64 -L 100 -B 0.3 -M 40 --build_PQ_bytes $opq_bytes --use_opq \n",
    "        echo -e \"Build index ${use_mrl}1K_opq${opq_bytes}_R64_L100_B0.3_d$d\\n\"\n",
    "    done\n",
    "done"
   ]
  },
  {
   "cell_type": "markdown",
   "id": "cad290ff",
   "metadata": {},
   "source": [
    "## Search DiskANN Memory Index"
   ]
  },
  {
   "cell_type": "code",
   "execution_count": 1,
   "id": "2685a209",
   "metadata": {},
   "outputs": [],
   "source": [
    "%%bash\n",
    "opq_bytes=32\n",
    "\n",
    "for use_mrl in rr mr\n",
    "do\n",
    "    for d in 32 64 128 256 512 1024 2048\n",
    "    do\n",
    "        ./../build/tests/search_memory_index --data_type float --dist_fn l2 \\\n",
    "        --index_path_prefix ../build/data/${use_mrl}-resnet50/memory-index/${use_mrl}1K_opq${opq_bytes}_R64_L100_A1.2_d$d \\\n",
    "        --query_file  ../build/data/${use_mrl}-resnet50/fbin/queries_d$d.fbin \\\n",
    "        --gt_file ../build/data/${use_mrl}-resnet50/exact_gt100/mrlr50_queries_d$d\"\"_gt100 \\\n",
    "        -K 100 -L 100 --result_path ../build/data/${use_mrl}-resnet50/res/memory-index/d$d/opq${opq_bytes}\n",
    "        echo -e \"Searched index ${use_mrl}1K_opq${opq_bytes}_R64_L100_A1.2_d$d\\n\"\n",
    "    done\n",
    "done"
   ]
  },
  {
   "cell_type": "markdown",
   "id": "e7627d51",
   "metadata": {},
   "source": [
    "## Search DiskANN SSD Index"
   ]
  },
  {
   "cell_type": "code",
   "execution_count": null,
   "id": "35655236",
   "metadata": {
    "scrolled": true
   },
   "outputs": [],
   "source": [
    "%%bash\n",
    "opq_bytes=48\n",
    "use_mrl=mrl\n",
    "reorder=disk-index\n",
    "\n",
    "for d in 1024\n",
    "do\n",
    "    for W in 2 8 16 32 # search quality\n",
    "    do\n",
    "        ./../build/tests/search_disk_index --data_type float --dist_fn l2 \\\n",
    "        --index_path_prefix ../build/data/${use_mrl}-resnet50/${reorder}/${use_mrl}1K_opq${opq_bytes}_R64_L100_B0.3_d$d \\\n",
    "        --query_file  ../build/data/${use_mrl}-resnet50/fbin/queries_d$d.fbin \\\n",
    "        --gt_file ../build/data/${use_mrl}-resnet50/exact_gt100/mrlr50_queries_d$d\"\"_gt100 \\\n",
    "        -K 100 -L 100 -W ${W} --num_nodes_to_cache 100000 --result_path ../build/data/${use_mrl}-resnet50/res/${reorder}/d$d/opq${opq_bytes}_W$W\n",
    "        echo -e \"Searched index ${use_mrl}1K_opq${opq_bytes}_R64_L100_B0.3_d$d\\n\"\n",
    "    done\n",
    "done"
   ]
  },
  {
   "cell_type": "markdown",
   "id": "38563959",
   "metadata": {},
   "source": [
    "# DiskANN Eval"
   ]
  },
  {
   "cell_type": "code",
   "execution_count": 1,
   "id": "cf835299",
   "metadata": {},
   "outputs": [],
   "source": [
    "D = 2048\n",
    "CONFIG = 'mr' # ['mr', 'rr']\n",
    "NESTING = CONFIG == 'mr'\n",
    "DISKANN_INDEX = 'memory-index' # disk-index\n",
    "DATASET = '1K' # ['1K', '4K', 'V2']"
   ]
  },
  {
   "cell_type": "code",
   "execution_count": 2,
   "id": "e3dc60ac",
   "metadata": {},
   "outputs": [],
   "source": [
    "def compute_mAP_recall_at_k(val_classes, db_classes, neighbors, k):\n",
    "    APs = list()\n",
    "    precision, recall, topk, majvote, unique_cls = [], [], [], [], []\n",
    "    \n",
    "    for i in range(val_classes.shape[0]): # Compute precision for each vector's list of k-nn\n",
    "        target = val_classes[i]\n",
    "        indices = neighbors[i, :][:k]    # k neighbor list for ith val vector\n",
    "        labels = db_classes[indices]\n",
    "        matches = (labels == target)\n",
    "        \n",
    "        # Number of unique classes\n",
    "        unique_cls.append(len(np.unique(labels)))\n",
    "        \n",
    "        # topk\n",
    "        hits = np.sum(matches)\n",
    "        if hits>0:\n",
    "            topk.append(1)\n",
    "        else:\n",
    "            topk.append(0)\n",
    "            \n",
    "        # true positive counts\n",
    "        tps = np.cumsum(matches)\n",
    "\n",
    "        # recall\n",
    "        recall.append(np.sum(matches)/1300)\n",
    "        precision.append(np.sum(matches)/k)\n",
    "\n",
    "        # precision values\n",
    "        precs = tps.astype(float) / np.arange(1, k + 1, 1)\n",
    "        APs.append(np.sum(precs[matches.squeeze()]) / k)\n",
    "\n",
    "    return np.mean(APs), np.mean(precision), np.mean(recall), np.mean(topk), majvote, np.mean(unique_cls)"
   ]
  },
  {
   "cell_type": "code",
   "execution_count": 3,
   "id": "1669e2da",
   "metadata": {},
   "outputs": [],
   "source": [
    "def print_metrics(CONFIG, nesting_list, shortlist, metric, nprobe=1):\n",
    "    if NESTING:\n",
    "        # Database: 1.2M x 1 for imagenet1k\n",
    "        db_labels = np.load(embeddings_root + DATASET + \"_train_mrl1_e0_ff2048-y.npy\")\n",
    "        \n",
    "        # Query set: 50K x 1 for imagenet1k\n",
    "        query_labels = np.load(embeddings_root + DATASET + \"_val_mrl1_e0_ff2048-y.npy\")\n",
    "    \n",
    "    for dim in nesting_list:\n",
    "        if opq > dim:\n",
    "            continue\n",
    "        # Load database and query set for fixed feature models\n",
    "        if not NESTING:\n",
    "            db_labels = np.load(embeddings_root + DATASET + \"_train_mrl1_e0_ff2048-y.npy\")\n",
    "            query_labels = np.load(embeddings_root + DATASET + \"_val_mrl0_e0_ff\"+str(D)+\"-y.npy\")\n",
    "        \n",
    "        for W in [32]:\n",
    "            row = [dim, opq, W]\n",
    "            fileName = f'/home/jupyter/DiskANN/build/data/{CONFIG}-resnet50/res/{DISKANN_INDEX}/d{dim}/opq{opq}_100_idx_uint32.bin'\n",
    "            print(fileName)\n",
    "            with open(fileName, 'rb') as f:\n",
    "                data = np.fromfile(f, dtype='<u4')\n",
    "            neighbors = data[2:].reshape(50000,-1)\n",
    "            ### DiskANN\n",
    "            \n",
    "            for k in shortlist:\n",
    "                mAP, precision, recall, topk, majvote, unique_cls = compute_mAP_recall_at_k(query_labels, db_labels, neighbors, k)\n",
    "                \n",
    "                if (metric == 'topk'): row.append(f'{metric}@{k}') ; row.append(topk)\n",
    "                elif (metric == 'mAP'): row.append(f'{metric}@{k}'); row.append(mAP)\n",
    "                elif (metric == 'precision'): row.append(f'{metric}@{k}'); row.append(precision)\n",
    "                elif (metric == 'recall') : row.append(f'{metric}@{k}'); row.append(recall)\n",
    "                elif (metric == 'unique_cls'): row.append(f'{metric}@{k}'); row.append(unique_cls)\n",
    "                else: print(\"Unsupported metric!\")\n",
    "\n",
    "            print(row)"
   ]
  },
  {
   "cell_type": "code",
   "execution_count": null,
   "id": "de3c0633",
   "metadata": {
    "collapsed": true
   },
   "outputs": [],
   "source": [
    "# Memory OPQ64\n",
    "nesting_list = [64]\n",
    "opq = 64\n",
    "print([\"dim\", \"opq\", \"beamwidth\", \"metric\", \"value\"])\n",
    "print_metrics(CONFIG, nesting_list, [1], 'topk')\n",
    "print_metrics(CONFIG, nesting_list, [10], 'mAP')\n",
    "print_metrics(CONFIG, nesting_list, [40], 'recall')"
   ]
  },
  {
   "cell_type": "code",
   "execution_count": null,
   "id": "811e23fa",
   "metadata": {
    "collapsed": true
   },
   "outputs": [],
   "source": [
    "## SSD no reranking index\n",
    "nesting_list = [32, 64, 128, 256, 512, 1024] # vector dims\n",
    "print([\"dim\", \"opq\", \"beamwidth\", \"metric\", \"value\"])\n",
    "\n",
    "for opq in [32, 64]:    \n",
    "    print_metrics(CONFIG, nesting_list, [1], 'topk')\n",
    "    print_metrics(CONFIG, nesting_list, [10], 'mAP')\n",
    "    print_metrics(CONFIG, nesting_list, [40], 'recall')"
   ]
  },
  {
   "cell_type": "markdown",
   "id": "8b735d79",
   "metadata": {},
   "source": [
    "## Post-hoc reranking"
   ]
  },
  {
   "cell_type": "code",
   "execution_count": 11,
   "id": "7619a409",
   "metadata": {},
   "outputs": [],
   "source": [
    "import numpy as np \n",
    "from sklearn.preprocessing import normalize\n",
    "\n",
    "D = 2048\n",
    "CONFIG = 'mr' # ['mr/', 'ff/']\n",
    "NESTING = CONFIG == 'mr'\n",
    "DISKANN_INDEX = 'memory-index'\n",
    "DATASET = '1K' # ['1K', '4K', 'V2']\n",
    "\n",
    "dim = 2048\n",
    "opq = 64\n",
    "db_rerank = np.load(embeddings_root+DATASET+'_train_mrl1_e0_ff2048-X.npy') # 1281167, 2048\n",
    "fileName = f'../build/data/{CONFIG}-resnet50/res/{DISKANN_INDEX}/d{dim}/opq{opq}_100_idx_uint32.bin'\n",
    "\n",
    "with open(fileName, 'rb') as f:\n",
    "    data = np.fromfile(f, dtype='<u4')\n",
    "neighbors = data[2:].reshape(50000,-1) # 50K, 100"
   ]
  },
  {
   "cell_type": "code",
   "execution_count": null,
   "id": "7754d0e3",
   "metadata": {},
   "outputs": [],
   "source": [
    "def rerank(rerank_dim, shortlist, neighbors):\n",
    "    \"\"\" Return shortlist of 2048-NN reranked with D_s and retrieved with D_r \n",
    "    \n",
    "    Keyword arguments:\n",
    "    rerank_dim -- dimensionality at which to rerank shortlist of k-NN\n",
    "    shortlist -- length of k-NN retrieved in list\n",
    "    neighbors -- array of k-NN\n",
    "    \"\"\"\n",
    "    \n",
    "    for i in range(len(rerank_dim)):\n",
    "        db_rerank_new = db_rerank[:, :rerank_dim[i]]\n",
    "        neighbors_new = neighbors[:, :shortlist[i]]\n",
    "\n",
    "        # iterate over every query and re-order 2048-NN based on rerank_dim representation distances\n",
    "        for j in range(len(neighbors)):\n",
    "            query_vector = queries[j][:rerank_dim[i]]\n",
    "            nn_indices = neighbors_new[j][:shortlist[i]]\n",
    "\n",
    "            NN_vectors_higher_dim = normalize(db_rerank_new[nn_indices].squeeze(), axis=1)\n",
    "            L2_distances_reranked = np.linalg.norm(NN_vectors_higher_dim - query_vector[:rerank_dim[i]], axis=1)\n",
    "\n",
    "            reranked_neighbor_indices = np.argsort(L2_distances_reranked)\n",
    "            reranked_neighbors = neighbors_new[j, reranked_neighbor_indices]\n",
    "            neighbors_new[j] = reranked_neighbors\n",
    "\n",
    "        neighbors = neighbors_new\n",
    "    return neighbors"
   ]
  }
 ],
 "metadata": {
  "kernelspec": {
   "display_name": "Python 3",
   "language": "python",
   "name": "python3"
  },
  "language_info": {
   "codemirror_mode": {
    "name": "ipython",
    "version": 3
   },
   "file_extension": ".py",
   "mimetype": "text/x-python",
   "name": "python",
   "nbconvert_exporter": "python",
   "pygments_lexer": "ipython3",
   "version": "3.11.0 (main, Oct 26 2022, 19:06:18) [Clang 14.0.0 (clang-1400.0.29.202)]"
  },
  "vscode": {
   "interpreter": {
    "hash": "5c7b89af1651d0b8571dde13640ecdccf7d5a6204171d6ab33e7c296e100e08a"
   }
  }
 },
 "nbformat": 4,
 "nbformat_minor": 5
}
